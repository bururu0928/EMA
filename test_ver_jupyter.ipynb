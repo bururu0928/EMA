{
 "cells": [
  {
   "cell_type": "code",
   "execution_count": 4,
   "metadata": {},
   "outputs": [],
   "source": [
    "# 引入套件\n",
    "from manim import *\n",
    "from pathlib import Path\n",
    "import os\n",
    "\n",
    "# 引入模板\n",
    "from EMA_system.calculate import *\n",
    "from EMA_system.explanatoryTool import *\n"
   ]
  }
 ],
 "metadata": {
  "kernelspec": {
   "display_name": "Python 3",
   "language": "python",
   "name": "python3"
  },
  "language_info": {
   "codemirror_mode": {
    "name": "ipython",
    "version": 3
   },
   "file_extension": ".py",
   "mimetype": "text/x-python",
   "name": "python",
   "nbconvert_exporter": "python",
   "pygments_lexer": "ipython3",
   "version": "3.10.5"
  },
  "orig_nbformat": 4,
  "vscode": {
   "interpreter": {
    "hash": "38c8fa901632906a6b0f7edbc50b7177c722ab8a42b9272dc0f572fcf08b047c"
   }
  }
 },
 "nbformat": 4,
 "nbformat_minor": 2
}
